{
 "cells": [
  {
   "cell_type": "code",
   "execution_count": 22,
   "metadata": {
    "collapsed": true
   },
   "outputs": [],
   "source": [
    "__author__ = 'rizaudo'\n",
    "import math\n",
    "from collections import Counter\n",
    "# for test...\n",
    "from sklearn.feature_extraction.text import TfidfTransformer"
   ]
  },
  {
   "cell_type": "markdown",
   "metadata": {},
   "source": [
    "これはランキングモデルを色々試すやつです"
   ]
  },
  {
   "cell_type": "code",
   "execution_count": 15,
   "metadata": {},
   "outputs": [],
   "source": [
    "def tf(term, doc: list):\n",
    "    \"\"\"\n",
    "    \n",
    "    :param term: 単語一つ \n",
    "    :param doc: ドキュメントの単語リスト\n",
    "    :return: tf\n",
    "    \"\"\"\n",
    "    c = Counter(doc)\n",
    "    return c[term] /sum(c.values())"
   ]
  },
  {
   "cell_type": "code",
   "execution_count": 16,
   "metadata": {},
   "outputs": [
    {
     "data": {
      "text/plain": [
       "0.2857142857142857"
      ]
     },
     "execution_count": 16,
     "metadata": {},
     "output_type": "execute_result"
    }
   ],
   "source": [
    "tf('a', ['a','b','b','b','d','a','d'])"
   ]
  },
  {
   "cell_type": "code",
   "execution_count": 19,
   "metadata": {},
   "outputs": [],
   "source": [
    "def idf(term, docs: list):\n",
    "    \"\"\"\n",
    "    smooth idf\n",
    "    :param term: \n",
    "    :param docs: \n",
    "    :return: \n",
    "    \"\"\"\n",
    "    return math.log10((1+len(docs))/(1+sum([bool(term in doc) for doc in docs])))"
   ]
  },
  {
   "cell_type": "code",
   "execution_count": 21,
   "metadata": {},
   "outputs": [
    {
     "data": {
      "text/plain": [
       "0.17609125905568124"
      ]
     },
     "execution_count": 21,
     "metadata": {},
     "output_type": "execute_result"
    }
   ],
   "source": [
    "idf('b', [['a','a','a'], ['a','b','c']])"
   ]
  }
 ],
 "metadata": {
  "kernelspec": {
   "display_name": "Python 2",
   "language": "python",
   "name": "python2"
  },
  "language_info": {
   "codemirror_mode": {
    "name": "ipython",
    "version": 2.0
   },
   "file_extension": ".py",
   "mimetype": "text/x-python",
   "name": "python",
   "nbconvert_exporter": "python",
   "pygments_lexer": "ipython2",
   "version": "2.7.6"
  }
 },
 "nbformat": 4,
 "nbformat_minor": 0
}